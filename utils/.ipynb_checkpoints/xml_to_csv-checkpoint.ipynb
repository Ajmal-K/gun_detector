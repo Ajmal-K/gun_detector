{
 "cells": [
  {
   "cell_type": "code",
   "execution_count": null,
   "metadata": {},
   "outputs": [],
   "source": [
    "import os\n",
    "import glob\n",
    "import pandas as pd\n",
    "import argparse\n",
    "import xml.etree.ElementTree as ET\n",
    "\n",
    "def xml_to_csv(path):\n",
    "    xml_list = []\n",
    "    for xml_file in glob.glob(path + '/*.xml'):\n",
    "        tree = ET.parse(xml_file)\n",
    "        root = tree.getroot()\n",
    "        for item in root.findall('object'):\n",
    "            value = (root.find('filename').text,\n",
    "                    int(root.find('size')[0].text),\n",
    "                    int(root.find('size')[1].text),\n",
    "                    item[0].text,\n",
    "                    int(item[4][0].text),\n",
    "                    int(item[4][1].text),\n",
    "                    int(item[4][2].text),\n",
    "                    int(item[4][3].text)            \n",
    "                    )\n",
    "            xml_list.append(value)\n",
    "    columns = ['filename', 'width', 'height', 'class', 'xmin', 'ymin', 'xmax', 'ymax']\n",
    "    xml_df = pd.DataFrame(xml_list, columns=columns)\n",
    "    return xml_df\n",
    "\n",
    "    def main():\n",
    "        current_directory =os.getcwd()\n",
    "        parent_directory = os.path.abspath(os.path.join(current_directory, os.pardir))\n",
    "        for directory in ['train', 'test']:\n",
    "            image_path = os.path.join(parent_directory, f'images/{directory}')\n",
    "            xml_df = xml_to_csv(image_path)\n",
    "            xml_df.to_csv(f'annotations/{directory}_labels.csv', index=None)\n",
    "            print(\"Successfully converted xml to csv\")\n",
    "\n"
   ]
  }
 ],
 "metadata": {
  "kernelspec": {
   "display_name": "Python 3",
   "language": "python",
   "name": "python3"
  },
  "language_info": {
   "codemirror_mode": {
    "name": "ipython",
    "version": 3
   },
   "file_extension": ".py",
   "mimetype": "text/x-python",
   "name": "python",
   "nbconvert_exporter": "python",
   "pygments_lexer": "ipython3",
   "version": "3.7.3"
  }
 },
 "nbformat": 4,
 "nbformat_minor": 2
}
